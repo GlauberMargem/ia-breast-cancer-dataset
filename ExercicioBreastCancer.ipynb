{
 "cells": [
  {
   "cell_type": "markdown",
   "id": "b0bb02e0",
   "metadata": {},
   "source": [
    "## Iniciando Dataset"
   ]
  },
  {
   "cell_type": "code",
   "execution_count": null,
   "id": "a3a8291f",
   "metadata": {},
   "outputs": [],
   "source": [
    "from sklearn "
   ]
  }
 ],
 "metadata": {
  "kernelspec": {
   "display_name": ".venv",
   "language": "python",
   "name": "python3"
  },
  "language_info": {
   "name": "python",
   "version": "3.13.7"
  }
 },
 "nbformat": 4,
 "nbformat_minor": 5
}
