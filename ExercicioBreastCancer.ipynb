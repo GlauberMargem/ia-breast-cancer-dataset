{
 "cells": [
  {
   "cell_type": "markdown",
   "id": "b0bb02e0",
   "metadata": {},
   "source": [
    "## Iniciando Dataset"
   ]
  },
  {
   "cell_type": "code",
   "execution_count": 41,
   "id": "2453cd5a",
   "metadata": {},
   "outputs": [],
   "source": [
    "from sklearn.datasets import load_breast_cancer\n",
    "import pandas as pd\n",
    "from sklearn.model_selection import train_test_split\n",
    "\n",
    "data = load_breast_cancer(as_frame=True)\n",
    "df = data.frame\n",
    "\n",
    "#print(df.info)"
   ]
  },
  {
   "cell_type": "markdown",
   "id": "f28753b0",
   "metadata": {},
   "source": [
    "### Separando X e Y "
   ]
  },
  {
   "cell_type": "code",
   "execution_count": 42,
   "id": "0e49cecf",
   "metadata": {},
   "outputs": [],
   "source": [
    "x = df.drop(columns=[data.target.name])\n",
    "y = df[data.target.name]"
   ]
  },
  {
   "cell_type": "markdown",
   "id": "bcb283aa",
   "metadata": {},
   "source": [
    "### Separando Treino e Teste"
   ]
  },
  {
   "cell_type": "code",
   "execution_count": 43,
   "id": "9ca92019",
   "metadata": {},
   "outputs": [],
   "source": [
    "x_train,x_test,y_train,y_test = train_test_split(x,y,test_size=0.2,random_state=50,stratify=y)\n"
   ]
  },
  {
   "cell_type": "markdown",
   "id": "badeda80",
   "metadata": {},
   "source": [
    "### Criando modelos de classificação"
   ]
  },
  {
   "cell_type": "code",
   "execution_count": 44,
   "id": "43e3b93e",
   "metadata": {},
   "outputs": [],
   "source": [
    "from sklearn.tree import DecisionTreeClassifier\n",
    "from sklearn.neighbors import KNeighborsClassifier\n",
    "from sklearn.linear_model import LogisticRegression\n",
    "\n",
    "modelos = {\n",
    "    'Decision Tree': DecisionTreeClassifier(),\n",
    "    'K-Neighborns': KNeighborsClassifier(),\n",
    "    'Logistic Regression': LogisticRegression(max_iter=10000)\n",
    "}"
   ]
  },
  {
   "cell_type": "markdown",
   "id": "0912bac6",
   "metadata": {},
   "source": [
    "### Treinar os modelos"
   ]
  },
  {
   "cell_type": "code",
   "execution_count": 45,
   "id": "40bf9bdd",
   "metadata": {},
   "outputs": [
    {
     "name": "stdout",
     "output_type": "stream",
     "text": [
      "Decision Tree - Acurácia: 0.956140350877193\n",
      "Precisão: 0.9560729421281235\n",
      "Matriz de Confusão:\n",
      "[[39  3]\n",
      " [ 2 70]]\n",
      "\n",
      "\n",
      "\n",
      "               precision    recall  f1-score   support\n",
      "\n",
      "           0       0.95      0.93      0.94        42\n",
      "           1       0.96      0.97      0.97        72\n",
      "\n",
      "    accuracy                           0.96       114\n",
      "   macro avg       0.96      0.95      0.95       114\n",
      "weighted avg       0.96      0.96      0.96       114\n",
      "\n",
      "K-Neighborns - Acurácia: 0.9298245614035088\n",
      "Precisão: 0.9330859199280251\n",
      "Matriz de Confusão:\n",
      "[[35  7]\n",
      " [ 1 71]]\n",
      "\n",
      "\n",
      "\n",
      "               precision    recall  f1-score   support\n",
      "\n",
      "           0       0.97      0.83      0.90        42\n",
      "           1       0.91      0.99      0.95        72\n",
      "\n",
      "    accuracy                           0.93       114\n",
      "   macro avg       0.94      0.91      0.92       114\n",
      "weighted avg       0.93      0.93      0.93       114\n",
      "\n",
      "Logistic Regression - Acurácia: 0.9824561403508771\n",
      "Precisão: 0.9829302987197724\n",
      "Matriz de Confusão:\n",
      "[[40  2]\n",
      " [ 0 72]]\n",
      "\n",
      "\n",
      "\n",
      "               precision    recall  f1-score   support\n",
      "\n",
      "           0       1.00      0.95      0.98        42\n",
      "           1       0.97      1.00      0.99        72\n",
      "\n",
      "    accuracy                           0.98       114\n",
      "   macro avg       0.99      0.98      0.98       114\n",
      "weighted avg       0.98      0.98      0.98       114\n",
      "\n"
     ]
    }
   ],
   "source": [
    "from sklearn.metrics import accuracy_score, precision_score, confusion_matrix, classification_report\n",
    "\n",
    "resultados = {}\n",
    "\n",
    "for nome, modelo in modelos.items():\n",
    "    modelo.fit(x_train, y_train)\n",
    "    y_predict = modelo.predict(x_test)\n",
    "\n",
    "    acuracia = accuracy_score(y_test, y_predict)\n",
    "    precisao = precision_score(y_test, y_predict, average='weighted')\n",
    "    matriz_confusao = confusion_matrix(y_test, y_predict)\n",
    "\n",
    "    resultados[nome] = {\n",
    "        'Acuracia': acuracia,\n",
    "        'Precisão': precisao,\n",
    "        'Matriz de Confusão': matriz_confusao\n",
    "    }\n",
    "\n",
    "    print(f'{nome} - Acurácia: {acuracia}')\n",
    "    print(f'Precisão: {precisao}')\n",
    "    print('Matriz de Confusão:')\n",
    "    print(matriz_confusao)\n",
    "    print('\\n\\n\\n', classification_report(y_test, y_predict))"
   ]
  },
  {
   "cell_type": "markdown",
   "id": "f64fa647",
   "metadata": {},
   "source": [
    "### Gráfico de comparação"
   ]
  },
  {
   "cell_type": "code",
   "execution_count": 46,
   "id": "c4be3c82",
   "metadata": {},
   "outputs": [
    {
     "name": "stderr",
     "output_type": "stream",
     "text": [
      "C:\\Users\\Glauber\\AppData\\Local\\Temp\\ipykernel_8628\\1896568809.py:9: FutureWarning: \n",
      "\n",
      "Passing `palette` without assigning `hue` is deprecated and will be removed in v0.14.0. Assign the `x` variable to `hue` and set `legend=False` for the same effect.\n",
      "\n",
      "  sns.barplot(x=model_names, y=accuracies, palette=['#ffa31a','#808080','#292929'])\n"
     ]
    },
    {
     "data": {
      "image/png": "[encoded data removed]",
      "text/plain": [
       "<Figure size 800x600 with 1 Axes>"
      ]
     },
     "metadata": {},
     "output_type": "display_data"
    }
   ],
   "source": [
    "import seaborn as sns\n",
    "import matplotlib.pyplot as plt\n",
    "\n",
    "\n",
    "model_names = list(resultados.keys())\n",
    "accuracies = [resultados[name]['Acuracia'] for name in model_names]\n",
    "\n",
    "plt.figure(figsize=(8,6))\n",
    "sns.barplot(x=model_names, y=accuracies, palette=['#ffa31a','#808080','#292929'])\n",
    "plt.title('ACURÁCIA ENTRE MODELOS')\n",
    "plt.xlabel('Modelo')\n",
    "plt.ylabel('Acurácia')\n",
    "plt.show()"
   ]
  },
  {
   "cell_type": "markdown",
   "id": "cdaf4ea9",
   "metadata": {},
   "source": [
    "1 - Classificação supervisionada basicamente é a técnica de aprendizado de máquina em que o modelo aprende a atribuir categorias aos dados, nesse tipo de aprendizado cada dado de entrada já possui um rótulo conhecido, e o modelo utiliza essas informações para entender os padrões e criar uma relação entre as características dos dados e as categorias ai depois do treinamento o modelo consegue classificar novos dados em categorias antes já definidas.\n",
    "\n",
    "2 - Dividir o dataset em treino e teste é para separar os dados em duas partes, uma que vai ensinar o modelo e outra que fica verificando se ele aprendeu mesmo, logo isso vai ajudar a garantir que o modelo consiga lidar quando tiver novos dados e não apenas memorizar os exemplos que ele já viu antes.\n",
    "\n",
    "3- diferença entre decision Tree e KNN é como eles aprendem e decidem, decision Tree aprende durante o treinamento e usa decisões baseadas nas características dos dados até chegar à classificação final, enquanto KNN não aprende antes, apenas armazena os dados e na hora de classificar compara a nova entrada com os \"K\" vizinhos mais próximos e escolhe a categoria com base nesses vizinhos."
   ]
  }
 ],
 "metadata": {
  "kernelspec": {
   "display_name": ".venv",
   "language": "python",
   "name": "python3"
  },
  "language_info": {
   "codemirror_mode": {
    "name": "ipython",
    "version": 3
   },
   "file_extension": ".py",
   "mimetype": "text/x-python",
   "name": "python",
   "nbconvert_exporter": "python",
   "pygments_lexer": "ipython3",
   "version": "3.13.7"
  }
 },
 "nbformat": 4,
 "nbformat_minor": 5
}
